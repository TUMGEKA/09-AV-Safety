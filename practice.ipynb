{
  "cells": [
    {
      "cell_type": "markdown",
      "metadata": {
        "id": "view-in-github",
        "colab_type": "text"
      },
      "source": [
        "<a href=\"https://colab.research.google.com/github/TUMGEKA/09-AV-Safety/blob/main/practice.ipynb\" target=\"_parent\"><img src=\"https://colab.research.google.com/assets/colab-badge.svg\" alt=\"Open In Colab\"/></a>"
      ]
    },
    {
      "cell_type": "markdown",
      "id": "Wb-NFDWvmGpd",
      "metadata": {
        "id": "Wb-NFDWvmGpd"
      },
      "source": [
        "# 09 - Safety Assessment Practice - Exercise\n",
        "\n",
        "**You should make your own copy of this notebook by selecting File->Save a copy in Drive from the menu bar above.**\n",
        "\n",
        "![figures/overview.png](https://github.com/TUMGEKA/09-AV-Safety/blob/main/figures/qr_code.png?raw=1)"
      ]
    },
    {
      "cell_type": "markdown",
      "source": [
        "## Automotive Safety Integrity Level - ASIL\n",
        "\n",
        "![figures/2024_Paper_EDGAR.png](https://github.com/TUMGEKA/09-AV-Safety/blob/main/figures/2024_Paper_EDGAR.png)\n",
        "\n",
        "The test vehicle, Edgar, employs camera-based traffic light detection to identify signal states. Trajectory planning is subsequently performed using high-definition map data. Upon detection of a red traffic light, the vehicle initiates deceleration constrained by the predefined negative acceleration limit, ensuring a safe stop prior to the stop line. For the entire task, we consider the ODD of inner-city traffic.\n",
        "\n",
        "The following error patterns are possible:\n",
        "1. An erroneous red light detection (false positive) led the vehicle to initiate unintended braking. Such events can degrade traffic flow efficiency and elevate the risk of rear-end collisions due to unexpected deceleration.\n",
        "2. A false negative in traffic light detection resulted in the vehicle misclassifying a red signal as green. Consequently, the vehicle maintained its speed or accelerated instead of initiating a stop. This behavior poses a significant safety risk, potentially leading to intersection collisions due to right-of-way violations.\n",
        "\n"
      ],
      "metadata": {
        "id": "2FAkE35t0ctb"
      },
      "id": "2FAkE35t0ctb"
    },
    {
      "cell_type": "markdown",
      "source": [
        "### Severity\n",
        "Enter the severity (S) and a brief explanation in no more than four keywords\n",
        "for each error pattern in the following table:\n",
        "\n",
        "| Failure | Severity - S | Explanation |\n",
        "|----------|----------|----------|\n",
        "| 1. False Positive       | S0, S1       | No collision, rear-end  collision       |\n",
        "| 2. False Negative       | S2, S3       | Collision with oncoming traffic and collision with stationary object       |\n"
      ],
      "metadata": {
        "id": "CJvpChFB5jvP"
      },
      "id": "CJvpChFB5jvP"
    },
    {
      "cell_type": "markdown",
      "source": [
        "### Exposure\n",
        "\n",
        "| Failure | Exposure - E | Explanation |\n",
        "|----------|----------|----------|\n",
        "| 1. False Positive       | E4       | Traffic lights are common in inner-city traffic.      |\n",
        "| 2. False Negative       | E4       | Traffic lights are common in inner-city traffic.       |"
      ],
      "metadata": {
        "id": "jfV2FfjW8q_w"
      },
      "id": "jfV2FfjW8q_w"
    },
    {
      "cell_type": "markdown",
      "source": [
        "### Controllability\n",
        "\n",
        "| Failure | Controllability - C | Explanation |\n",
        "|----------|----------|----------|\n",
        "| 1. False Positive       | C1 - C2       | Most other traffic participant would be able to control the damage      |\n",
        "| 2. False Negative       | C3       | Other traffic is barely able to control the damage       |"
      ],
      "metadata": {
        "id": "0qMFUdfI-mbt"
      },
      "id": "0qMFUdfI-mbt"
    },
    {
      "cell_type": "markdown",
      "source": [
        "### ASIL\n"
      ],
      "metadata": {
        "id": "puhv738n_BZ3"
      },
      "id": "puhv738n_BZ3"
    },
    {
      "cell_type": "markdown",
      "id": "competitive-elite",
      "metadata": {
        "id": "competitive-elite"
      },
      "source": [
        "# 09 - Safety Assessment Practice - Coding\n",
        "\n",
        "In this practice, we will be given a scenario (environment and object data) paired with a set of possible trajectories for the ego-vehicle. The goal is to implement a (simple) online safety assessment selecting the safetst trajectory among the given ones.\n",
        "\n",
        "![figures/overview.png](https://github.com/TUMGEKA/09-AV-Safety/blob/main/figures/overview.png?raw=1)\n",
        "\n",
        "First, import of required packages (and definitions):"
      ]
    },
    {
      "cell_type": "code",
      "execution_count": null,
      "id": "P3A8bp2hdLUB",
      "metadata": {
        "id": "P3A8bp2hdLUB"
      },
      "outputs": [],
      "source": [
        "!git clone https://github.com/TUMGEKA/09-AV-Safety.git\n",
        "\n",
        "!pip install -r 09-AV-Safety/requirements.txt\n",
        "\n",
        "import sys\n",
        "sys.path.append('/content/09-AV-Safety')\n",
        "\n",
        "import utils.scenario_reader"
      ]
    },
    {
      "cell_type": "code",
      "execution_count": null,
      "id": "casual-health",
      "metadata": {
        "id": "casual-health"
      },
      "outputs": [],
      "source": [
        "import numpy as np\n",
        "import matplotlib.pyplot as plt\n",
        "\n",
        "\n",
        "\n",
        "# define TUM colors\n",
        "TUM_colors = {\n",
        "    \"TUM_blue\": \"#3070b3\",\n",
        "    \"TUM_orange\": \"#E37222\",\n",
        "    \"TUM_green\": \"#A2AD00\",\n",
        "    \"TUM_blue_dark\": \"#003359\",\n",
        "    \"TUM_grey_dark\": \"#9a9a9a\",\n",
        "    \"TUM_blue_medium\": \"#64A0C8\",\n",
        "    \"TUM_blue_light\": \"#98C6EA\",\n",
        "}"
      ]
    },
    {
      "cell_type": "markdown",
      "id": "introductory-relief",
      "metadata": {
        "id": "introductory-relief"
      },
      "source": [
        "### Load and initialize scenario data\n",
        "\n",
        "Now we will retrieve and generate the required scenario data.\n",
        "\n",
        "The scenarios are stored in scenario-files, that can be easily accessed with the \"scenario_testing_tools\"-package. Each of the scenarios holds identical track bounds and the same object vehicle behavior. Solely the ego-trajectory is different in the five scenarios.\n",
        "\n",
        "First, we set the relative path to the scenario files."
      ]
    },
    {
      "cell_type": "code",
      "execution_count": null,
      "id": "fatty-belief",
      "metadata": {
        "id": "fatty-belief"
      },
      "outputs": [],
      "source": [
        "# Scenario files\n",
        "file_scn1 = \"/content/09-AV-Safety/scenarios/scenario_1.saa\"\n",
        "file_scn2 = \"/content/09-AV-Safety/scenarios/scenario_2.saa\"\n",
        "file_scn3 = \"/content/09-AV-Safety/scenarios/scenario_3.saa\"\n",
        "file_scn4 = \"/content/09-AV-Safety/scenarios/scenario_4.saa\"\n",
        "file_scn5 = \"/content/09-AV-Safety/scenarios/scenario_5.saa\""
      ]
    },
    {
      "cell_type": "markdown",
      "id": "difficult-finnish",
      "metadata": {
        "id": "difficult-finnish"
      },
      "source": [
        "Second, we extract the track boundaries from the a scenario file. Since all scenario files are same, any file can be chosen."
      ]
    },
    {
      "cell_type": "code",
      "execution_count": null,
      "id": "retained-australia",
      "metadata": {
        "id": "retained-australia"
      },
      "outputs": [],
      "source": [
        "# -- get track boundaries from scenario file --\n",
        "bound_l, bound_r = utils.scenario_reader.get_scene_track(file_path=file_scn1)"
      ]
    },
    {
      "cell_type": "markdown",
      "id": "animated-chart",
      "metadata": {
        "id": "animated-chart"
      },
      "source": [
        "Third, we import the poses of the object vehicle. As with the track boundaries, any file can be chosen.\n",
        "Since the object vehicle poses are stored for distinct time stamps in the scenario, we iterate over all available time-stamps and extract the corresponding pose."
      ]
    },
    {
      "cell_type": "code",
      "execution_count": null,
      "id": "cosmetic-shift",
      "metadata": {
        "id": "cosmetic-shift"
      },
      "outputs": [],
      "source": [
        "# -- trajectory of object vehicle --\n",
        "\n",
        "# init list containers (length not known beforehand)\n",
        "t_obj = []\n",
        "x_obj = []\n",
        "y_obj = []\n",
        "psi_obj = []\n",
        "v_obj = []\n",
        "\n",
        "# get all entries from scenario file\n",
        "i = 0\n",
        "while True:\n",
        "    try:\n",
        "        # get object list entry, if requested time stamp is not in file an error is raised\n",
        "        data = utils.scenario_reader.get_scene_timesample(\n",
        "            file_path=file_scn1, t_in=i\n",
        "        )\n",
        "        time = data[0]\n",
        "        obj_list = data[8]\n",
        "\n",
        "        # get first (and only) object in the object list\n",
        "        obj = next(iter(obj_list.values()))\n",
        "\n",
        "        # append data to list containers\n",
        "        t_obj.append(time)\n",
        "        x_obj.append(obj[\"X\"])\n",
        "        y_obj.append(obj[\"Y\"])\n",
        "        psi_obj.append(obj[\"psi\"])\n",
        "        v_obj.append(obj[\"vel\"])\n",
        "\n",
        "        # increase counter\n",
        "        i += 1\n",
        "    except:\n",
        "        break\n",
        "\n",
        "# get numpy array form list containers, columns [t, x, y, psi, v]\n",
        "traj_obj = np.column_stack((t_obj, x_obj, y_obj, psi_obj, v_obj))"
      ]
    },
    {
      "cell_type": "markdown",
      "id": "latter-adobe",
      "metadata": {
        "id": "latter-adobe"
      },
      "source": [
        "Finally, we load all trajectory candidates for the ego-vehicle. Here, the \"scenario_testing_tools\"-package provides a function to load the complete trajectory with one call (no iteration required)."
      ]
    },
    {
      "cell_type": "code",
      "execution_count": null,
      "id": "digital-style",
      "metadata": {
        "id": "digital-style"
      },
      "outputs": [],
      "source": [
        "# -- trajectories of ego-vehicle --\n",
        "\n",
        "# get first ego trajectory data\n",
        "data = utils.scenario_reader.get_scene_ego_traj(file_path=file_scn1, append_plan=False)\n",
        "\n",
        "# get numpy array for first ego trajectory with columns [t, x, y, psi, curv, v, a]\n",
        "traj_ego1 = np.column_stack((data[:7]))\n",
        "\n",
        "# execute this for the remaining four trajectories (in line)\n",
        "traj_ego2 = np.column_stack(\n",
        "    (\n",
        "        utils.scenario_reader.get_scene_ego_traj(\n",
        "            file_path=file_scn2, append_plan=False\n",
        "        )[:7]\n",
        "    )\n",
        ")\n",
        "traj_ego3 = np.column_stack(\n",
        "    (\n",
        "        utils.scenario_reader.get_scene_ego_traj(\n",
        "            file_path=file_scn3, append_plan=False\n",
        "        )[:7]\n",
        "    )\n",
        ")\n",
        "traj_ego4 = np.column_stack(\n",
        "    (\n",
        "        utils.scenario_reader.get_scene_ego_traj(\n",
        "            file_path=file_scn4, append_plan=False\n",
        "        )[:7]\n",
        "    )\n",
        ")\n",
        "traj_ego5 = np.column_stack(\n",
        "    (\n",
        "        utils.scenario_reader.get_scene_ego_traj(\n",
        "            file_path=file_scn5, append_plan=False\n",
        "        )[:7]\n",
        "    )\n",
        ")"
      ]
    },
    {
      "cell_type": "markdown",
      "id": "figured-guest",
      "metadata": {
        "id": "figured-guest"
      },
      "source": [
        "Now we can visualize the imported data (in this case for `traj_ego1`)."
      ]
    },
    {
      "cell_type": "code",
      "execution_count": null,
      "id": "graphic-final",
      "metadata": {
        "id": "graphic-final"
      },
      "outputs": [],
      "source": [
        "fig = plt.figure()\n",
        "fig.set_size_inches(10, 10)\n",
        "\n",
        "# plot boundaries\n",
        "plt.plot(bound_l[:, 0], bound_l[:, 1], \"k\")\n",
        "plt.plot(bound_r[:, 0], bound_r[:, 1], \"k\")\n",
        "\n",
        "# plot object trajectory (in blue)\n",
        "plt.plot(traj_obj[:, 1], traj_obj[:, 2], TUM_colors[\"TUM_blue\"])\n",
        "\n",
        "# plot ego trajectory 1 (in orange)\n",
        "plt.plot(traj_ego1[:, 1], traj_ego1[:, 2], TUM_colors[\"TUM_orange\"])\n",
        "\n",
        "# plot metadata\n",
        "plt.gca().set_aspect(\"equal\", \"box\")\n",
        "plt.gca().set_xlabel(\"$x$ in m\")\n",
        "plt.gca().set_ylabel(\"$y$ in m\")"
      ]
    },
    {
      "cell_type": "markdown",
      "id": "traditional-pierce",
      "metadata": {
        "id": "traditional-pierce"
      },
      "source": [
        "Since this display neglects the temporal information, we can setup a simple animation."
      ]
    },
    {
      "cell_type": "code",
      "execution_count": null,
      "id": "aea3b07d",
      "metadata": {
        "id": "aea3b07d"
      },
      "outputs": [],
      "source": [
        "from matplotlib.animation import FuncAnimation\n",
        "\n",
        "fig,ax = plt.subplots()\n",
        "fig.set_size_inches(10, 10)\n",
        "\n",
        "# plot boundaries\n",
        "ax.plot(bound_l[:, 0], bound_l[:, 1], \"k\")\n",
        "ax.plot(bound_r[:, 0], bound_r[:, 1], \"k\")\n",
        "\n",
        "# plot metadata\n",
        "ax.set_aspect(\"equal\", \"box\")\n",
        "ax.set_xlabel(\"$x$ in m\")\n",
        "ax.set_ylabel(\"$y$ in m\")\n",
        "\n",
        "# plot dummys for vehicles\n",
        "(veh_obj,) = ax.plot(0.0, 0.0, TUM_colors[\"TUM_blue\"], marker=\".\", markersize=12)\n",
        "(veh_ego,) = ax.plot(0.0, 0.0, TUM_colors[\"TUM_orange\"], marker=\".\", markersize=12)\n",
        "\n",
        "# select an ego-trajectory to be displayed\n",
        "traj_ego_sel = traj_ego2\n",
        "\n",
        "\n",
        "def update(i):\n",
        "    # set current time-stamp as title\n",
        "    ax.set_title(\"t = %.2fs\" % traj_ego_sel[i, 0])\n",
        "\n",
        "    # update vehicle positions\n",
        "    veh_obj.set_data([traj_obj[i, 1]], [traj_obj[i, 2]])\n",
        "    veh_ego.set_data([traj_ego_sel[i, 1]], [traj_ego_sel[i, 2]])\n",
        "    return\n",
        "\n",
        "\n",
        "# FuncAnimation will call the 'update' function for each frame\n",
        "# animating all frames, with an interval of q00ms between frames\n",
        "anim = FuncAnimation(\n",
        "    fig,\n",
        "    update,\n",
        "    frames=np.arange(0, min(traj_ego_sel.shape[0], traj_obj.shape[0])),\n",
        "    interval=100,\n",
        ")\n",
        "\n",
        "# plt.show() will just loop the animation forever in a normal shell\n",
        "# for jupyter we need a html wrapper\n",
        "from IPython.display import HTML\n",
        "# close the empty figure\n",
        "plt.close()\n",
        "HTML(anim.to_jshtml())\n"
      ]
    },
    {
      "cell_type": "markdown",
      "id": "reverse-surge",
      "metadata": {
        "id": "reverse-surge"
      },
      "source": [
        "### TTC Rating\n",
        "\n",
        "In a first step we want to rate our trajectory candidates against the object vehicle. Therefore, we will focus on a specific point in time (t = 4s) of our ego-trajectory as well as on the object vehicle.\n",
        "\n",
        "*Note: In this case we have perfect information about the future of the object vehicle, on a real vehicle one would have to predict the behavior of the other vehicle or rely on a rating of the current time step only.*\n",
        "\n",
        "To make the evaluation for all trajectories simple, we define a function that determines the TTC for a specific constellation.\n",
        "\n",
        "Reminder TTC:\n",
        "$$\\mathrm{TTC} = \\frac{d_\\mathrm{x}}{(v_\\mathrm{ego} - v_\\mathrm{le})}$$,\n",
        "for a given longitudinal distance $d_\\mathrm{x}$, ego velocity $v_\\mathrm{ego}$ and velocity of the lead vehicle $v_\\mathrm{le}$."
      ]
    },
    {
      "cell_type": "code",
      "execution_count": null,
      "id": "associate-warner",
      "metadata": {
        "id": "associate-warner"
      },
      "outputs": [],
      "source": [
        "def calc_ttc(\n",
        "    pos_ego: np.ndarray,\n",
        "    vel_ego: float,\n",
        "    pos_obj: np.ndarray,\n",
        "    vel_obj: float,\n",
        "    veh_len: float = 4.7,\n",
        "):\n",
        "    \"\"\"\n",
        "    Calculates the time to collision (TTC) for a given ego vehicle (pos, vel) and an object vehicle (pos, vel).\n",
        "    Assumption: the provided object vehicle is _in front_ of the ego vehicle.\n",
        "\n",
        "    :param pos_ego:    position of ego vehicle as numpy array with columns x, y [in m]\n",
        "    :param vel_ego:    velocity of ego vehicle [in m/s]\n",
        "    :param pos_obj:    position of object vehicle as numpy array with columns x, y [in m]\n",
        "    :param vel_obj:    velocity of object vehicle [in m/s]\n",
        "    :param veh_len:    (optional) vehicle length (assumed identical for both) [in m]\n",
        "    :returns ttc:      time to collision [in s]\n",
        "    \"\"\"\n",
        "\n",
        "    # check if ego vehicle is faster than leading vehicle (otherwise it will never reach the other vehicle)\n",
        "    if vel_ego > vel_obj:\n",
        "        # calculate distance between vehicles (bumper to bumper)\n",
        "        dist = np.hypot(pos_ego[0] - pos_obj[0], pos_ego[1] - pos_obj[1]) - veh_len\n",
        "\n",
        "        # calculate ttc\n",
        "        ttc = dist / (vel_ego - vel_obj)\n",
        "\n",
        "    else:\n",
        "        ttc = np.inf\n",
        "\n",
        "    return ttc"
      ]
    },
    {
      "cell_type": "markdown",
      "id": "labeled-communications",
      "metadata": {
        "id": "labeled-communications"
      },
      "source": [
        "Now we can use this function to calculate the TTC at t = 4s for all trajectory candidates."
      ]
    },
    {
      "cell_type": "code",
      "execution_count": null,
      "id": "ruled-bacon",
      "metadata": {
        "id": "ruled-bacon"
      },
      "outputs": [],
      "source": [
        "# find index in trajectory that is closest to t = 4s\n",
        "t = 4.0\n",
        "idx_t = np.argmin(np.abs(traj_ego1[:, 0] - t))\n",
        "\n",
        "# calculate TTC for all ego trajectory candidates\n",
        "ttc = []\n",
        "for traj_ego in [traj_ego1, traj_ego2, traj_ego3, traj_ego4, traj_ego5]:\n",
        "    ttc.append(\n",
        "        calc_ttc(\n",
        "            pos_ego=traj_ego[idx_t, 1:3],\n",
        "            vel_ego=traj_ego[idx_t, 5],\n",
        "            pos_obj=traj_obj[idx_t, 1:3],\n",
        "            vel_obj=traj_obj[idx_t, 4],\n",
        "        )\n",
        "    )\n",
        "\n",
        "print(ttc)"
      ]
    },
    {
      "cell_type": "markdown",
      "id": "entitled-insurance",
      "metadata": {
        "id": "entitled-insurance"
      },
      "source": [
        "The smaller the TTC, the more critical the situation. Once the TTC reaches a value of $0$, a collision happens. In related work, a value of $2.0$ and below is considered as critical. Therefore, one of the given trajectories is considered critical w.r.t. the TTC rating."
      ]
    },
    {
      "cell_type": "markdown",
      "id": "patient-leader",
      "metadata": {
        "id": "patient-leader"
      },
      "source": [
        "### Acceleration Limit Rating\n",
        "\n",
        "Next we will check the total requested acceleration resulting on the tire for each of the trajectories. Therefore, we assume a simple fricion model (friction circle) holds, such that the total acceleration - composed of a lateral and longitudinal acceleration - must not exceed a track and tire specific value.\n",
        "\n",
        "![figures/friction_circle.png](https://github.com/TUMGEKA/09-AV-Safety/blob/main/figures/friction_circle.png?raw=1)\n",
        "\n",
        "It should be noted, that the drag acting on the vehicle can be calculated as follows:\n",
        "$$a_\\mathrm{drag} = v^2 c_\\mathrm{drag} / m,$$\n",
        "where $v$ is the velocity, $m$ the mass, and $c_\\mathrm{drag}$ the vehicle specific drag coefficient (including mass density and reference area). For the vehicle specific drag coefficient a value of $0.954$ can be assumed. For the vehcile mass, a value of $1160.0$ can be assumed.\n",
        "\n",
        "Similar to the TTC rating, we start of by defining a function that handles the calculation of the combined accelration."
      ]
    },
    {
      "cell_type": "code",
      "execution_count": null,
      "id": "early-border",
      "metadata": {
        "id": "early-border"
      },
      "outputs": [],
      "source": [
        "def calc_a_comb(traj_ego: np.ndarray, c_drag: float = 0.954, m_veh: float = 1160.0):\n",
        "    \"\"\"\n",
        "    Calculates the combined acceleration acting on the tires for a given trajectory.\n",
        "\n",
        "    :param traj_ego:   ego trajectory with columns [t, x, y, psi, curv, v, a]\n",
        "    :param c_drag:     (optional) vehicle specific drag coefficient\n",
        "    :param m_veh:      (optional) vehicle mass\n",
        "    :returns a_comb:   combined acceleration acting on the tires along the trajectory\n",
        "    \"\"\"\n",
        "\n",
        "    # for each point on the planed trajectory, extract curvature, velocity and longitudinal acceleration\n",
        "    ego_curve = traj_ego[:, 4]\n",
        "    ego_velocity = traj_ego[:, 5]\n",
        "    a_lon_used = traj_ego[:, 6]\n",
        "\n",
        "    # for each point on the planned trajectory, calculate the lateral acceleration based on curvature and velocity\n",
        "    a_lat_used = np.power(ego_velocity[:], 2) * ego_curve[:]\n",
        "\n",
        "    # calculate equivalent longitudinal acceleration of drag force along velocity profile\n",
        "    a_lon_drag = np.power(ego_velocity[:], 2) * c_drag / m_veh\n",
        "\n",
        "    # drag reduces requested deceleration but increases requested acceleration at the tire\n",
        "    a_lon_used += a_lon_drag\n",
        "\n",
        "    # calculate used combined acceleration\n",
        "    a_comb = np.sqrt(np.power(np.abs(a_lon_used), 2) + np.power(np.abs(a_lat_used), 2))\n",
        "\n",
        "    return a_comb"
      ]
    },
    {
      "cell_type": "markdown",
      "id": "pressed-northeast",
      "metadata": {
        "id": "pressed-northeast"
      },
      "source": [
        "Now we can use this function to calculate the combined acceleration along all trajectory candidates."
      ]
    },
    {
      "cell_type": "code",
      "execution_count": null,
      "id": "divided-account",
      "metadata": {
        "id": "divided-account"
      },
      "outputs": [],
      "source": [
        "# calculate combined acceleration for all ego trajectory candidates\n",
        "a_comb = []\n",
        "for traj_ego in [traj_ego1, traj_ego2, traj_ego3, traj_ego4, traj_ego5]:\n",
        "    a_comb.append(calc_a_comb(traj_ego=traj_ego))\n",
        "# print maximum combined acceleration for each of the trajectory candidates\n",
        "print([max(a) for a in a_comb])"
      ]
    },
    {
      "cell_type": "markdown",
      "id": "plastic-quantity",
      "metadata": {
        "id": "plastic-quantity"
      },
      "source": [
        "The acceleration limit for the tire-track-combination was determined to reside at $15.0 m/s^2$. Therefore, one of the trajectories significantly exceeds this limit an must be flagged as unsafe.\n",
        "\n",
        "If we want to see more details here we can plot the acceleration and velocity over time."
      ]
    },
    {
      "cell_type": "code",
      "execution_count": null,
      "id": "respective-dodge",
      "metadata": {
        "id": "respective-dodge"
      },
      "outputs": [],
      "source": [
        "fig = plt.figure()\n",
        "fig.set_size_inches(10, 10)\n",
        "\n",
        "# plot metadata\n",
        "plt.gca().set_xlabel(\"$t$ in s\")\n",
        "plt.gca().set_ylabel(\"$v$ in m/s\\n$a$ in m/s$^2$\")\n",
        "\n",
        "# plot 15m/s^2 bound\n",
        "plt.plot([0.0, 15.0], [15.0, 15.0], \"r\")\n",
        "\n",
        "for i, (traj_ego_sel, a_comb_sel) in enumerate(\n",
        "    zip([traj_ego1, traj_ego2, traj_ego3, traj_ego4, traj_ego5], a_comb)\n",
        "):\n",
        "    # plot velocity\n",
        "    plt.plot(\n",
        "        traj_ego_sel[:, 0],\n",
        "        traj_ego_sel[:, 5],\n",
        "        list(TUM_colors.values())[i],\n",
        "        linestyle=\":\",\n",
        "        label=\"$v$ (ego_traj\" + str(i + 1) + \")\",\n",
        "    )\n",
        "\n",
        "    # plot combined acceleration\n",
        "    plt.plot(\n",
        "        traj_ego_sel[:, 0],\n",
        "        a_comb_sel,\n",
        "        list(TUM_colors.values())[i],\n",
        "        label=\"$a$ (ego_traj\" + str(i + 1) + \")\",\n",
        "    )\n",
        "\n",
        "plt.gca().legend()"
      ]
    },
    {
      "cell_type": "markdown",
      "id": "hungarian-realtor",
      "metadata": {
        "id": "hungarian-realtor"
      },
      "source": [
        "### Rating and Outlook\n",
        "\n",
        "Based on the generated scores we can label each of the trajectories with a boolean flag. Unsafe trajectories will receive a `False` flag.\n",
        "\n",
        "NOTE: For now, we rated two properties only, i.e. a trajectory not violating one of the ratings above still can be unsafe w.r.t. some other metric."
      ]
    },
    {
      "cell_type": "code",
      "execution_count": null,
      "id": "portuguese-ranking",
      "metadata": {
        "id": "portuguese-ranking"
      },
      "outputs": [],
      "source": [
        "s_traj = []\n",
        "\n",
        "for ttc_i, a_comb_i in zip(ttc, a_comb):\n",
        "    s_traj.append((ttc_i > 2.0 and max(a_comb_i) <= 15.0))\n",
        "\n",
        "print(s_traj)"
      ]
    },
    {
      "cell_type": "markdown",
      "id": "changing-jones",
      "metadata": {
        "id": "changing-jones"
      },
      "source": [
        "Based on the TTC rating and the acceleration limit rating, we can sort out two of the five provided trajectories."
      ]
    }
  ],
  "metadata": {
    "celltoolbar": "Slideshow",
    "colab": {
      "provenance": [],
      "include_colab_link": true
    },
    "kernelspec": {
      "display_name": "Python 3 (ipykernel)",
      "language": "python",
      "name": "python3"
    },
    "language_info": {
      "codemirror_mode": {
        "name": "ipython",
        "version": 3
      },
      "file_extension": ".py",
      "mimetype": "text/x-python",
      "name": "python",
      "nbconvert_exporter": "python",
      "pygments_lexer": "ipython3",
      "version": "3.8.8"
    }
  },
  "nbformat": 4,
  "nbformat_minor": 5
}